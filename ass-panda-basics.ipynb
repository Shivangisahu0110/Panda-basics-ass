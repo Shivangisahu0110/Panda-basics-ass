{
 "cells": [
  {
   "cell_type": "markdown",
   "id": "afff9e25-aec0-4900-b7cc-12dc409d968b",
   "metadata": {},
   "source": [
    "Q1. Create a Pandas Series that contains the following data: 4, 8, 15, 16, 23, and 42. Then, print the series."
   ]
  },
  {
   "cell_type": "code",
   "execution_count": 4,
   "id": "8bbaed65-c426-40b0-a754-f8d2703442a7",
   "metadata": {},
   "outputs": [],
   "source": [
    "import pandas as pd"
   ]
  },
  {
   "cell_type": "code",
   "execution_count": 2,
   "id": "4a49b0a2-57cb-4a07-9c8c-51db805ee23a",
   "metadata": {},
   "outputs": [],
   "source": [
    "data = [\"4\", \"8\", \"15\", \"16\", \"23\", \"42\"]"
   ]
  },
  {
   "cell_type": "code",
   "execution_count": 8,
   "id": "6deab41c-5aae-4b82-a545-e8b4c68c1baf",
   "metadata": {},
   "outputs": [],
   "source": [
    "panda_series =pd.Series(data)"
   ]
  },
  {
   "cell_type": "code",
   "execution_count": 9,
   "id": "45363b99-57f2-4ab2-a8ec-aee7e2f93531",
   "metadata": {},
   "outputs": [
    {
     "data": {
      "text/plain": [
       "0     4\n",
       "1     8\n",
       "2    15\n",
       "3    16\n",
       "4    23\n",
       "5    42\n",
       "dtype: object"
      ]
     },
     "execution_count": 9,
     "metadata": {},
     "output_type": "execute_result"
    }
   ],
   "source": [
    "panda_series"
   ]
  },
  {
   "cell_type": "code",
   "execution_count": 10,
   "id": "f0d2e5a1-f017-49cc-8d8f-bc7c9cae0374",
   "metadata": {},
   "outputs": [
    {
     "data": {
      "text/plain": [
       "pandas.core.series.Series"
      ]
     },
     "execution_count": 10,
     "metadata": {},
     "output_type": "execute_result"
    }
   ],
   "source": [
    "type(panda_series)"
   ]
  },
  {
   "cell_type": "markdown",
   "id": "3c7732af-d086-4746-8e34-05ac7952071c",
   "metadata": {},
   "source": [
    "Q2. Create a variable of list type containing 10 elements in it, and apply pandas.Series function on the\n",
    "variable print it."
   ]
  },
  {
   "cell_type": "code",
   "execution_count": 35,
   "id": "5b3cd8fa-420f-43f7-b0a7-68bd0622cf18",
   "metadata": {},
   "outputs": [
    {
     "data": {
      "text/plain": [
       "0       145\n",
       "1       shi\n",
       "2     nitin\n",
       "3    harshu\n",
       "4     78.76\n",
       "5     66.34\n",
       "6       752\n",
       "7        48\n",
       "8       549\n",
       "9      1450\n",
       "dtype: object"
      ]
     },
     "execution_count": 35,
     "metadata": {},
     "output_type": "execute_result"
    }
   ],
   "source": [
    "list = [\"145\",\"shi\",\"nitin\",\"harshu\",\"78.76\",\"66.34\",\"752\",\"48\",\"549\",\"1450\"]\n",
    "series =pd.Series(list)\n",
    "series"
   ]
  },
  {
   "cell_type": "markdown",
   "id": "17134dfc-bf39-4ac9-a1e7-b4477035f823",
   "metadata": {},
   "source": [
    "Q3. Create a Pandas DataFrame that contains the following data:"
   ]
  },
  {
   "cell_type": "code",
   "execution_count": 25,
   "id": "9cf623db-3209-4657-b4bc-4efd2da3ad90",
   "metadata": {},
   "outputs": [],
   "source": [
    "data1= {\n",
    "    'Name' : ['Alice','Bob','Claire'],\n",
    "    'Age' : [ '25','30','27'],\n",
    "    'Gender' : ['Female','Male','Female']\n",
    "}\n",
    "dataframe_data = pd.DataFrame(data1)"
   ]
  },
  {
   "cell_type": "code",
   "execution_count": 26,
   "id": "d789d181-633f-407b-88fd-5bd2f943136f",
   "metadata": {},
   "outputs": [
    {
     "data": {
      "text/html": [
       "<div>\n",
       "<style scoped>\n",
       "    .dataframe tbody tr th:only-of-type {\n",
       "        vertical-align: middle;\n",
       "    }\n",
       "\n",
       "    .dataframe tbody tr th {\n",
       "        vertical-align: top;\n",
       "    }\n",
       "\n",
       "    .dataframe thead th {\n",
       "        text-align: right;\n",
       "    }\n",
       "</style>\n",
       "<table border=\"1\" class=\"dataframe\">\n",
       "  <thead>\n",
       "    <tr style=\"text-align: right;\">\n",
       "      <th></th>\n",
       "      <th>Name</th>\n",
       "      <th>Age</th>\n",
       "      <th>Gender</th>\n",
       "    </tr>\n",
       "  </thead>\n",
       "  <tbody>\n",
       "    <tr>\n",
       "      <th>0</th>\n",
       "      <td>Alice</td>\n",
       "      <td>25</td>\n",
       "      <td>Female</td>\n",
       "    </tr>\n",
       "    <tr>\n",
       "      <th>1</th>\n",
       "      <td>Bob</td>\n",
       "      <td>30</td>\n",
       "      <td>Male</td>\n",
       "    </tr>\n",
       "    <tr>\n",
       "      <th>2</th>\n",
       "      <td>Claire</td>\n",
       "      <td>27</td>\n",
       "      <td>Female</td>\n",
       "    </tr>\n",
       "  </tbody>\n",
       "</table>\n",
       "</div>"
      ],
      "text/plain": [
       "     Name Age  Gender\n",
       "0   Alice  25  Female\n",
       "1     Bob  30    Male\n",
       "2  Claire  27  Female"
      ]
     },
     "execution_count": 26,
     "metadata": {},
     "output_type": "execute_result"
    }
   ],
   "source": [
    "dataframe_data"
   ]
  },
  {
   "cell_type": "code",
   "execution_count": 27,
   "id": "e34b038b-48d6-4df9-8026-bd0ec0b7a1f1",
   "metadata": {},
   "outputs": [
    {
     "data": {
      "text/plain": [
       "pandas.core.frame.DataFrame"
      ]
     },
     "execution_count": 27,
     "metadata": {},
     "output_type": "execute_result"
    }
   ],
   "source": [
    "type(dataframe_data)"
   ]
  },
  {
   "cell_type": "markdown",
   "id": "9483e220-6c6b-4fc2-9eaa-2bf22e121e25",
   "metadata": {},
   "source": [
    "Q4. What is ‘DataFrame’ in pandas and how is it different from pandas.series? Explain with an example."
   ]
  },
  {
   "cell_type": "markdown",
   "id": "2a97c7b3-96fd-4caf-9d45-dedf0fbccf5e",
   "metadata": {},
   "source": [
    "DataFrame:\n",
    "\n",
    "A DataFrame is a two-dimensional, tabular data structure that is similar to a spreadsheet or SQL table.\n",
    "\n",
    "It consists of rows and columns, where each column can have a different data type (e.g., integers, floats, strings, etc.).\n",
    "\n",
    "Series:\n",
    "    \n",
    "A Series is a one-dimensional array-like object that can hold data of any type.\n",
    "\n",
    "Series objects are often used to represent a single feature or attribute of a dataset."
   ]
  },
  {
   "cell_type": "code",
   "execution_count": 34,
   "id": "6a4bb9b9-2cdf-452f-b860-4ce62d03ed42",
   "metadata": {},
   "outputs": [
    {
     "data": {
      "text/html": [
       "<div>\n",
       "<style scoped>\n",
       "    .dataframe tbody tr th:only-of-type {\n",
       "        vertical-align: middle;\n",
       "    }\n",
       "\n",
       "    .dataframe tbody tr th {\n",
       "        vertical-align: top;\n",
       "    }\n",
       "\n",
       "    .dataframe thead th {\n",
       "        text-align: right;\n",
       "    }\n",
       "</style>\n",
       "<table border=\"1\" class=\"dataframe\">\n",
       "  <thead>\n",
       "    <tr style=\"text-align: right;\">\n",
       "      <th></th>\n",
       "      <th>Name</th>\n",
       "      <th>Age</th>\n",
       "      <th>Gender</th>\n",
       "    </tr>\n",
       "  </thead>\n",
       "  <tbody>\n",
       "    <tr>\n",
       "      <th>0</th>\n",
       "      <td>Alice</td>\n",
       "      <td>25</td>\n",
       "      <td>Female</td>\n",
       "    </tr>\n",
       "    <tr>\n",
       "      <th>1</th>\n",
       "      <td>Bob</td>\n",
       "      <td>30</td>\n",
       "      <td>Male</td>\n",
       "    </tr>\n",
       "    <tr>\n",
       "      <th>2</th>\n",
       "      <td>Claire</td>\n",
       "      <td>27</td>\n",
       "      <td>Female</td>\n",
       "    </tr>\n",
       "  </tbody>\n",
       "</table>\n",
       "</div>"
      ],
      "text/plain": [
       "     Name Age  Gender\n",
       "0   Alice  25  Female\n",
       "1     Bob  30    Male\n",
       "2  Claire  27  Female"
      ]
     },
     "execution_count": 34,
     "metadata": {},
     "output_type": "execute_result"
    }
   ],
   "source": [
    "#Example of dataFrame:\n",
    "\n",
    "data1= {\n",
    "    'Name' : ['Alice','Bob','Claire'],\n",
    "    'Age' : [ '25','30','27'],\n",
    "    'Gender' : ['Female','Male','Female']\n",
    "}\n",
    "dataframe_data = pd.DataFrame(data1)\n",
    "dataframe_data"
   ]
  },
  {
   "cell_type": "code",
   "execution_count": 37,
   "id": "bc6b8307-6b31-49a5-b366-969233aa0871",
   "metadata": {},
   "outputs": [
    {
     "data": {
      "text/plain": [
       "0      145\n",
       "1      shi\n",
       "2    nitin\n",
       "3    78.76\n",
       "4    66.34\n",
       "5      752\n",
       "dtype: object"
      ]
     },
     "execution_count": 37,
     "metadata": {},
     "output_type": "execute_result"
    }
   ],
   "source": [
    "#Example of Series:\n",
    "list = [\"145\",\"shi\",\"nitin\",\"78.76\",\"66.34\",\"752\"]\n",
    "series =pd.Series(list)\n",
    "series"
   ]
  },
  {
   "cell_type": "markdown",
   "id": "19afac2f-2734-4b3a-8d39-40048c53b1f5",
   "metadata": {},
   "source": [
    "Q5. What are some common functions you can use to manipulate data in a Pandas DataFrame? Can\n",
    "you give an example of when you might use one of these functions?"
   ]
  },
  {
   "cell_type": "markdown",
   "id": "c1e6c627-0394-49e9-b3bd-ffc90a03e634",
   "metadata": {},
   "source": [
    "1.head() and tail():\n",
    "\n",
    "head(n) returns the first n rows of the DataFrame.\n",
    "\n",
    "tail(n) returns the last n rows of the DataFrame."
   ]
  },
  {
   "cell_type": "code",
   "execution_count": 77,
   "id": "bbfc9607-f92a-45a3-a3a6-66a139d9b2c7",
   "metadata": {},
   "outputs": [
    {
     "data": {
      "text/html": [
       "<div>\n",
       "<style scoped>\n",
       "    .dataframe tbody tr th:only-of-type {\n",
       "        vertical-align: middle;\n",
       "    }\n",
       "\n",
       "    .dataframe tbody tr th {\n",
       "        vertical-align: top;\n",
       "    }\n",
       "\n",
       "    .dataframe thead th {\n",
       "        text-align: right;\n",
       "    }\n",
       "</style>\n",
       "<table border=\"1\" class=\"dataframe\">\n",
       "  <thead>\n",
       "    <tr style=\"text-align: right;\">\n",
       "      <th></th>\n",
       "      <th>Name</th>\n",
       "      <th>Age</th>\n",
       "      <th>Gender</th>\n",
       "    </tr>\n",
       "  </thead>\n",
       "  <tbody>\n",
       "    <tr>\n",
       "      <th>0</th>\n",
       "      <td>Alice</td>\n",
       "      <td>25</td>\n",
       "      <td>Female</td>\n",
       "    </tr>\n",
       "    <tr>\n",
       "      <th>1</th>\n",
       "      <td>Bob</td>\n",
       "      <td>30</td>\n",
       "      <td>Male</td>\n",
       "    </tr>\n",
       "    <tr>\n",
       "      <th>2</th>\n",
       "      <td>Claire</td>\n",
       "      <td>27</td>\n",
       "      <td>Female</td>\n",
       "    </tr>\n",
       "  </tbody>\n",
       "</table>\n",
       "</div>"
      ],
      "text/plain": [
       "     Name Age  Gender\n",
       "0   Alice  25  Female\n",
       "1     Bob  30    Male\n",
       "2  Claire  27  Female"
      ]
     },
     "execution_count": 77,
     "metadata": {},
     "output_type": "execute_result"
    }
   ],
   "source": [
    "#Example:\n",
    "dataframe_data.head(3)"
   ]
  },
  {
   "cell_type": "code",
   "execution_count": 44,
   "id": "61e8e7c0-8621-4ec3-83f7-801420afd461",
   "metadata": {},
   "outputs": [
    {
     "data": {
      "text/html": [
       "<div>\n",
       "<style scoped>\n",
       "    .dataframe tbody tr th:only-of-type {\n",
       "        vertical-align: middle;\n",
       "    }\n",
       "\n",
       "    .dataframe tbody tr th {\n",
       "        vertical-align: top;\n",
       "    }\n",
       "\n",
       "    .dataframe thead th {\n",
       "        text-align: right;\n",
       "    }\n",
       "</style>\n",
       "<table border=\"1\" class=\"dataframe\">\n",
       "  <thead>\n",
       "    <tr style=\"text-align: right;\">\n",
       "      <th></th>\n",
       "      <th>Name</th>\n",
       "      <th>Age</th>\n",
       "      <th>Gender</th>\n",
       "    </tr>\n",
       "  </thead>\n",
       "  <tbody>\n",
       "    <tr>\n",
       "      <th>1</th>\n",
       "      <td>Bob</td>\n",
       "      <td>30</td>\n",
       "      <td>Male</td>\n",
       "    </tr>\n",
       "    <tr>\n",
       "      <th>2</th>\n",
       "      <td>Claire</td>\n",
       "      <td>27</td>\n",
       "      <td>Female</td>\n",
       "    </tr>\n",
       "  </tbody>\n",
       "</table>\n",
       "</div>"
      ],
      "text/plain": [
       "     Name Age  Gender\n",
       "1     Bob  30    Male\n",
       "2  Claire  27  Female"
      ]
     },
     "execution_count": 44,
     "metadata": {},
     "output_type": "execute_result"
    }
   ],
   "source": [
    "dataframe_data.tail(2)"
   ]
  },
  {
   "cell_type": "markdown",
   "id": "786e0de2-be6a-4624-9c2a-74c995a4eb9b",
   "metadata": {},
   "source": [
    "2. columns: way to access column names"
   ]
  },
  {
   "cell_type": "code",
   "execution_count": 46,
   "id": "4f03c958-1020-4716-853f-15080de625e4",
   "metadata": {},
   "outputs": [
    {
     "data": {
      "text/plain": [
       "Index(['Name', 'Age', 'Gender'], dtype='object')"
      ]
     },
     "execution_count": 46,
     "metadata": {},
     "output_type": "execute_result"
    }
   ],
   "source": [
    "#Example:\n",
    "\n",
    "dataframe_data.columns"
   ]
  },
  {
   "cell_type": "markdown",
   "id": "aa629c79-2ce5-4fe9-be3c-829942c35d30",
   "metadata": {},
   "source": [
    "3.pd.read_csv:\n",
    "\n",
    "This is a function provided by Pandas to read csv files into a DataFrame.\n",
    "\n",
    "It allows you to read data from csv files and work with it in Python."
   ]
  },
  {
   "cell_type": "code",
   "execution_count": 60,
   "id": "16de0f7b-8b1e-48de-b7e0-2a38637960a8",
   "metadata": {},
   "outputs": [],
   "source": [
    "#Example:\n",
    "\n",
    "df = pd.read_csv(\"services.csv\")"
   ]
  },
  {
   "cell_type": "markdown",
   "id": "21500114-cecd-4c94-8a97-d9c99ef985a9",
   "metadata": {},
   "source": [
    "4.dtypes():\n",
    "\n",
    "This is used to display the data types of each column in DataFrame df1.\n",
    "    \n",
    "It provides information about the type of data stored in each column."
   ]
  },
  {
   "cell_type": "code",
   "execution_count": 51,
   "id": "de8ac971-72a2-47ac-8746-a36f05a4972a",
   "metadata": {},
   "outputs": [
    {
     "data": {
      "text/plain": [
       "id                           int64\n",
       "location_id                  int64\n",
       "program_id                 float64\n",
       "accepted_payments           object\n",
       "alternate_name              object\n",
       "application_process         object\n",
       "audience                    object\n",
       "description                 object\n",
       "eligibility                 object\n",
       "email                       object\n",
       "fees                        object\n",
       "funding_sources             object\n",
       "interpretation_services     object\n",
       "keywords                    object\n",
       "languages                   object\n",
       "name                        object\n",
       "required_documents          object\n",
       "service_areas               object\n",
       "status                      object\n",
       "wait_time                   object\n",
       "website                     object\n",
       "taxonomy_ids                object\n",
       "dtype: object"
      ]
     },
     "execution_count": 51,
     "metadata": {},
     "output_type": "execute_result"
    }
   ],
   "source": [
    "#Example:\n",
    "\n",
    "df.dtypes"
   ]
  },
  {
   "cell_type": "markdown",
   "id": "7acf31bb-0da9-4548-9d6c-cc9a4765c650",
   "metadata": {},
   "source": [
    "5.  to_csv:\n",
    "\n",
    "This is used to write a DataFrame  to a CSV (Comma Separated Values) file.\n",
    "\n",
    "It allows you to save your DataFrame as a CSV file that can be opened in spreadsheet software."
   ]
  },
  {
   "cell_type": "code",
   "execution_count": 54,
   "id": "efc06dcf-0f48-47ea-aa85-6c7ac61bcd08",
   "metadata": {},
   "outputs": [],
   "source": [
    "dataframe_data.to_csv('output.csv', index=False)"
   ]
  },
  {
   "cell_type": "markdown",
   "id": "af03a34e-1b41-4bcd-9cf1-44dbff809a31",
   "metadata": {},
   "source": [
    "6.describe():\n",
    "\n",
    "Generates descriptive statistics (e.g., count, mean, min, max, etc.) for numerical columns."
   ]
  },
  {
   "cell_type": "code",
   "execution_count": 59,
   "id": "854781fe-7c18-498d-b641-12e7577b8e07",
   "metadata": {},
   "outputs": [
    {
     "data": {
      "text/html": [
       "<div>\n",
       "<style scoped>\n",
       "    .dataframe tbody tr th:only-of-type {\n",
       "        vertical-align: middle;\n",
       "    }\n",
       "\n",
       "    .dataframe tbody tr th {\n",
       "        vertical-align: top;\n",
       "    }\n",
       "\n",
       "    .dataframe thead th {\n",
       "        text-align: right;\n",
       "    }\n",
       "</style>\n",
       "<table border=\"1\" class=\"dataframe\">\n",
       "  <thead>\n",
       "    <tr style=\"text-align: right;\">\n",
       "      <th></th>\n",
       "      <th>id</th>\n",
       "      <th>location_id</th>\n",
       "      <th>program_id</th>\n",
       "    </tr>\n",
       "  </thead>\n",
       "  <tbody>\n",
       "    <tr>\n",
       "      <th>count</th>\n",
       "      <td>23.00000</td>\n",
       "      <td>23.000000</td>\n",
       "      <td>0.0</td>\n",
       "    </tr>\n",
       "    <tr>\n",
       "      <th>mean</th>\n",
       "      <td>12.00000</td>\n",
       "      <td>11.956522</td>\n",
       "      <td>NaN</td>\n",
       "    </tr>\n",
       "    <tr>\n",
       "      <th>std</th>\n",
       "      <td>6.78233</td>\n",
       "      <td>6.711444</td>\n",
       "      <td>NaN</td>\n",
       "    </tr>\n",
       "    <tr>\n",
       "      <th>min</th>\n",
       "      <td>1.00000</td>\n",
       "      <td>1.000000</td>\n",
       "      <td>NaN</td>\n",
       "    </tr>\n",
       "    <tr>\n",
       "      <th>25%</th>\n",
       "      <td>6.50000</td>\n",
       "      <td>6.500000</td>\n",
       "      <td>NaN</td>\n",
       "    </tr>\n",
       "    <tr>\n",
       "      <th>50%</th>\n",
       "      <td>12.00000</td>\n",
       "      <td>12.000000</td>\n",
       "      <td>NaN</td>\n",
       "    </tr>\n",
       "    <tr>\n",
       "      <th>75%</th>\n",
       "      <td>17.50000</td>\n",
       "      <td>17.500000</td>\n",
       "      <td>NaN</td>\n",
       "    </tr>\n",
       "    <tr>\n",
       "      <th>max</th>\n",
       "      <td>23.00000</td>\n",
       "      <td>22.000000</td>\n",
       "      <td>NaN</td>\n",
       "    </tr>\n",
       "  </tbody>\n",
       "</table>\n",
       "</div>"
      ],
      "text/plain": [
       "             id  location_id  program_id\n",
       "count  23.00000    23.000000         0.0\n",
       "mean   12.00000    11.956522         NaN\n",
       "std     6.78233     6.711444         NaN\n",
       "min     1.00000     1.000000         NaN\n",
       "25%     6.50000     6.500000         NaN\n",
       "50%    12.00000    12.000000         NaN\n",
       "75%    17.50000    17.500000         NaN\n",
       "max    23.00000    22.000000         NaN"
      ]
     },
     "execution_count": 59,
     "metadata": {},
     "output_type": "execute_result"
    }
   ],
   "source": [
    "df.describe()"
   ]
  },
  {
   "cell_type": "markdown",
   "id": "8b2dcc5e-44c5-41fa-a1c6-2e37345f84ab",
   "metadata": {},
   "source": [
    "7.groupby():\n",
    "\n",
    "Allows you to group data based on one or more columns and perform operations on each group."
   ]
  },
  {
   "cell_type": "code",
   "execution_count": null,
   "id": "b3846c5a-0411-4478-9106-81295b032216",
   "metadata": {},
   "outputs": [],
   "source": [
    "df.groupby('audience')['eligibility'].mean()  # Computes the mean age for each gender group\n"
   ]
  },
  {
   "cell_type": "markdown",
   "id": "43f40619-d9ee-4eee-a7bc-8b5cad11ce4f",
   "metadata": {},
   "source": [
    "8.fillna():\n",
    "    \n",
    "Fills missing values in the DataFrame with a specified value or method."
   ]
  },
  {
   "cell_type": "code",
   "execution_count": 66,
   "id": "4a2f0a0e-a6eb-4f15-a07d-8c11ae7b2522",
   "metadata": {},
   "outputs": [
    {
     "data": {
      "text/html": [
       "<div>\n",
       "<style scoped>\n",
       "    .dataframe tbody tr th:only-of-type {\n",
       "        vertical-align: middle;\n",
       "    }\n",
       "\n",
       "    .dataframe tbody tr th {\n",
       "        vertical-align: top;\n",
       "    }\n",
       "\n",
       "    .dataframe thead th {\n",
       "        text-align: right;\n",
       "    }\n",
       "</style>\n",
       "<table border=\"1\" class=\"dataframe\">\n",
       "  <thead>\n",
       "    <tr style=\"text-align: right;\">\n",
       "      <th></th>\n",
       "      <th>id</th>\n",
       "      <th>location_id</th>\n",
       "      <th>program_id</th>\n",
       "      <th>accepted_payments</th>\n",
       "      <th>alternate_name</th>\n",
       "      <th>application_process</th>\n",
       "      <th>audience</th>\n",
       "      <th>description</th>\n",
       "      <th>eligibility</th>\n",
       "      <th>email</th>\n",
       "      <th>...</th>\n",
       "      <th>interpretation_services</th>\n",
       "      <th>keywords</th>\n",
       "      <th>languages</th>\n",
       "      <th>name</th>\n",
       "      <th>required_documents</th>\n",
       "      <th>service_areas</th>\n",
       "      <th>status</th>\n",
       "      <th>wait_time</th>\n",
       "      <th>website</th>\n",
       "      <th>taxonomy_ids</th>\n",
       "    </tr>\n",
       "  </thead>\n",
       "  <tbody>\n",
       "    <tr>\n",
       "      <th>0</th>\n",
       "      <td>1</td>\n",
       "      <td>1</td>\n",
       "      <td>0.0</td>\n",
       "      <td>0</td>\n",
       "      <td>0</td>\n",
       "      <td>Walk in or apply by phone.</td>\n",
       "      <td>Older adults age 55 or over, ethnic minorities...</td>\n",
       "      <td>A walk-in center for older adults that provide...</td>\n",
       "      <td>Age 55 or over for most programs, age 60 or ov...</td>\n",
       "      <td>0</td>\n",
       "      <td>...</td>\n",
       "      <td>0</td>\n",
       "      <td>ADULT PROTECTION AND CARE SERVICES, Meal Sites...</td>\n",
       "      <td>0</td>\n",
       "      <td>Fair Oaks Adult Activity Center</td>\n",
       "      <td>0</td>\n",
       "      <td>Colma</td>\n",
       "      <td>active</td>\n",
       "      <td>No wait.</td>\n",
       "      <td>0</td>\n",
       "      <td>0</td>\n",
       "    </tr>\n",
       "    <tr>\n",
       "      <th>1</th>\n",
       "      <td>2</td>\n",
       "      <td>2</td>\n",
       "      <td>0.0</td>\n",
       "      <td>0</td>\n",
       "      <td>0</td>\n",
       "      <td>Apply by phone for an appointment.</td>\n",
       "      <td>Residents of San Mateo County age 55 or over</td>\n",
       "      <td>Provides training and job placement to eligibl...</td>\n",
       "      <td>Age 55 or over, county resident and willing an...</td>\n",
       "      <td>0</td>\n",
       "      <td>...</td>\n",
       "      <td>0</td>\n",
       "      <td>EMPLOYMENT/TRAINING SERVICES, Job Development,...</td>\n",
       "      <td>0</td>\n",
       "      <td>Second Career Employment Program</td>\n",
       "      <td>0</td>\n",
       "      <td>San Mateo County</td>\n",
       "      <td>active</td>\n",
       "      <td>Varies.</td>\n",
       "      <td>0</td>\n",
       "      <td>0</td>\n",
       "    </tr>\n",
       "    <tr>\n",
       "      <th>2</th>\n",
       "      <td>3</td>\n",
       "      <td>3</td>\n",
       "      <td>0.0</td>\n",
       "      <td>0</td>\n",
       "      <td>0</td>\n",
       "      <td>Phone for information (403-4300 Ext. 4322).</td>\n",
       "      <td>Older adults age 55 or over who can benefit fr...</td>\n",
       "      <td>Offers supportive counseling services to San M...</td>\n",
       "      <td>Resident of San Mateo County age 55 or over</td>\n",
       "      <td>0</td>\n",
       "      <td>...</td>\n",
       "      <td>0</td>\n",
       "      <td>Geriatric Counseling, Older Adults, Gay, Lesbi...</td>\n",
       "      <td>0</td>\n",
       "      <td>Senior Peer Counseling</td>\n",
       "      <td>0</td>\n",
       "      <td>San Mateo County</td>\n",
       "      <td>active</td>\n",
       "      <td>Varies.</td>\n",
       "      <td>0</td>\n",
       "      <td>0</td>\n",
       "    </tr>\n",
       "  </tbody>\n",
       "</table>\n",
       "<p>3 rows × 22 columns</p>\n",
       "</div>"
      ],
      "text/plain": [
       "   id  location_id  program_id accepted_payments alternate_name  \\\n",
       "0   1            1         0.0                 0              0   \n",
       "1   2            2         0.0                 0              0   \n",
       "2   3            3         0.0                 0              0   \n",
       "\n",
       "                           application_process  \\\n",
       "0                   Walk in or apply by phone.   \n",
       "1           Apply by phone for an appointment.   \n",
       "2  Phone for information (403-4300 Ext. 4322).   \n",
       "\n",
       "                                            audience  \\\n",
       "0  Older adults age 55 or over, ethnic minorities...   \n",
       "1       Residents of San Mateo County age 55 or over   \n",
       "2  Older adults age 55 or over who can benefit fr...   \n",
       "\n",
       "                                         description  \\\n",
       "0  A walk-in center for older adults that provide...   \n",
       "1  Provides training and job placement to eligibl...   \n",
       "2  Offers supportive counseling services to San M...   \n",
       "\n",
       "                                         eligibility email  ...  \\\n",
       "0  Age 55 or over for most programs, age 60 or ov...     0  ...   \n",
       "1  Age 55 or over, county resident and willing an...     0  ...   \n",
       "2        Resident of San Mateo County age 55 or over     0  ...   \n",
       "\n",
       "  interpretation_services                                           keywords  \\\n",
       "0                       0  ADULT PROTECTION AND CARE SERVICES, Meal Sites...   \n",
       "1                       0  EMPLOYMENT/TRAINING SERVICES, Job Development,...   \n",
       "2                       0  Geriatric Counseling, Older Adults, Gay, Lesbi...   \n",
       "\n",
       "  languages                              name required_documents  \\\n",
       "0         0   Fair Oaks Adult Activity Center                  0   \n",
       "1         0  Second Career Employment Program                  0   \n",
       "2         0            Senior Peer Counseling                  0   \n",
       "\n",
       "      service_areas  status wait_time website taxonomy_ids  \n",
       "0             Colma  active  No wait.       0            0  \n",
       "1  San Mateo County  active   Varies.       0            0  \n",
       "2  San Mateo County  active   Varies.       0            0  \n",
       "\n",
       "[3 rows x 22 columns]"
      ]
     },
     "execution_count": 66,
     "metadata": {},
     "output_type": "execute_result"
    }
   ],
   "source": [
    "df.fillna(0).head(3)"
   ]
  },
  {
   "cell_type": "markdown",
   "id": "38d043d4-c0ee-4968-9d13-2aae538545b4",
   "metadata": {},
   "source": [
    "9. drop():\n",
    "\n",
    "Allows you to remove rows or columns from the DataFrame."
   ]
  },
  {
   "cell_type": "code",
   "execution_count": 70,
   "id": "7f6f12c6-4957-446e-b4c7-e65856167561",
   "metadata": {},
   "outputs": [],
   "source": [
    "df.drop(columns=['email'], inplace=True)  # Drops the 'alternate_name' column\n"
   ]
  },
  {
   "cell_type": "markdown",
   "id": "694779bd-9374-46c4-8a85-d01f53077195",
   "metadata": {},
   "source": [
    "Q6. Which of the following is mutable in nature Series, DataFrame, Panel?"
   ]
  },
  {
   "cell_type": "markdown",
   "id": "5f22e36f-aa99-47cf-acdc-de0d156ab1eb",
   "metadata": {},
   "source": [
    " DataFrames are mutable, which means you can modify their contents by adding or removing rows and columns, changing values, and performing various data manipulation operations."
   ]
  },
  {
   "cell_type": "markdown",
   "id": "c0c2e796-f0eb-4e33-9e92-03353c2c433e",
   "metadata": {},
   "source": [
    "Q7. Create a DataFrame using multiple Series. Explain with an example."
   ]
  },
  {
   "cell_type": "code",
   "execution_count": 76,
   "id": "b8245ea3-9e0c-44ab-a2c7-cb3a99d293f2",
   "metadata": {},
   "outputs": [
    {
     "data": {
      "text/html": [
       "<div>\n",
       "<style scoped>\n",
       "    .dataframe tbody tr th:only-of-type {\n",
       "        vertical-align: middle;\n",
       "    }\n",
       "\n",
       "    .dataframe tbody tr th {\n",
       "        vertical-align: top;\n",
       "    }\n",
       "\n",
       "    .dataframe thead th {\n",
       "        text-align: right;\n",
       "    }\n",
       "</style>\n",
       "<table border=\"1\" class=\"dataframe\">\n",
       "  <thead>\n",
       "    <tr style=\"text-align: right;\">\n",
       "      <th></th>\n",
       "      <th>index</th>\n",
       "      <th>Name</th>\n",
       "      <th>DOB</th>\n",
       "    </tr>\n",
       "  </thead>\n",
       "  <tbody>\n",
       "    <tr>\n",
       "      <th>0</th>\n",
       "      <td>1</td>\n",
       "      <td>shivangi</td>\n",
       "      <td>1/10</td>\n",
       "    </tr>\n",
       "    <tr>\n",
       "      <th>1</th>\n",
       "      <td>2</td>\n",
       "      <td>nitin</td>\n",
       "      <td>2/2</td>\n",
       "    </tr>\n",
       "    <tr>\n",
       "      <th>2</th>\n",
       "      <td>3</td>\n",
       "      <td>anmol</td>\n",
       "      <td>4/6</td>\n",
       "    </tr>\n",
       "    <tr>\n",
       "      <th>3</th>\n",
       "      <td>4</td>\n",
       "      <td>harsh</td>\n",
       "      <td>26/5</td>\n",
       "    </tr>\n",
       "    <tr>\n",
       "      <th>4</th>\n",
       "      <td>5</td>\n",
       "      <td>bittu</td>\n",
       "      <td>2/3</td>\n",
       "    </tr>\n",
       "  </tbody>\n",
       "</table>\n",
       "</div>"
      ],
      "text/plain": [
       "  index      Name   DOB\n",
       "0     1  shivangi  1/10\n",
       "1     2     nitin   2/2\n",
       "2     3     anmol   4/6\n",
       "3     4     harsh  26/5\n",
       "4     5     bittu   2/3"
      ]
     },
     "execution_count": 76,
     "metadata": {},
     "output_type": "execute_result"
    }
   ],
   "source": [
    "series1 =[\"1\",\"2\",\"3\",\"4\",\"5\"]\n",
    "series2 = [\"shivangi\",\"nitin\",\"anmol\",\"harsh\",\"bittu\"]\n",
    "series3 =[\"1/10\",\"2/2\",\"4/6\",\"26/5\",\"2/3\"]\n",
    "\n",
    "data = {\"index\":series1, \"Name\":series2 ,\"DOB\":series3 }\n",
    "\n",
    "df_series = pd.DataFrame(data)\n",
    "df_series"
   ]
  },
  {
   "cell_type": "code",
   "execution_count": null,
   "id": "48a94e35-b013-46b6-818f-99663eb4dba5",
   "metadata": {},
   "outputs": [],
   "source": []
  }
 ],
 "metadata": {
  "kernelspec": {
   "display_name": "Python 3 (ipykernel)",
   "language": "python",
   "name": "python3"
  },
  "language_info": {
   "codemirror_mode": {
    "name": "ipython",
    "version": 3
   },
   "file_extension": ".py",
   "mimetype": "text/x-python",
   "name": "python",
   "nbconvert_exporter": "python",
   "pygments_lexer": "ipython3",
   "version": "3.10.8"
  }
 },
 "nbformat": 4,
 "nbformat_minor": 5
}
